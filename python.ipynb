{
  "nbformat": 4,
  "nbformat_minor": 0,
  "metadata": {
    "colab": {
      "provenance": [],
      "authorship_tag": "ABX9TyN+1tIqXv3g1WWikWD+NnVC",
      "include_colab_link": true
    },
    "kernelspec": {
      "name": "python3",
      "display_name": "Python 3"
    },
    "language_info": {
      "name": "python"
    }
  },
  "cells": [
    {
      "cell_type": "markdown",
      "metadata": {
        "id": "view-in-github",
        "colab_type": "text"
      },
      "source": [
        "<a href=\"https://colab.research.google.com/github/Puttaraj276/Engineering-Exploration/blob/main/python.ipynb\" target=\"_parent\"><img src=\"https://colab.research.google.com/assets/colab-badge.svg\" alt=\"Open In Colab\"/></a>"
      ]
    },
    {
      "cell_type": "code",
      "execution_count": null,
      "metadata": {
        "colab": {
          "base_uri": "https://localhost:8080/"
        },
        "id": "X5UX-b39t3yj",
        "outputId": "ed3ddf8e-eb10-4ec1-900d-9c3fc10ef313"
      },
      "outputs": [
        {
          "output_type": "stream",
          "name": "stdout",
          "text": [
            "5 is greater than 2\n"
          ]
        }
      ],
      "source": [
        "if(5>2):\n",
        "  print(\"5 is greater than 2\")\n",
        "if(5>2):\n",
        "  print(\"5 is greater than 2\")"
      ]
    },
    {
      "cell_type": "code",
      "source": [
        "if(5>2):\n",
        "  print(\"5 is greater than 2\")"
      ],
      "metadata": {
        "colab": {
          "base_uri": "https://localhost:8080/"
        },
        "id": "7TFystfduAXB",
        "outputId": "c19a2936-e9aa-40d5-ebaa-d8a669d932c3"
      },
      "execution_count": null,
      "outputs": [
        {
          "output_type": "stream",
          "name": "stdout",
          "text": [
            "5 is greater than 2\n"
          ]
        }
      ]
    },
    {
      "cell_type": "code",
      "source": [
        "x,y,z=\"orange\",\"banana\",\"cherry\"\n",
        "print(x)\n",
        "print(y)\n",
        "print(z)\n",
        "\n",
        "#list\n",
        "a=[1,2,3]\n",
        "print(a)"
      ],
      "metadata": {
        "colab": {
          "base_uri": "https://localhost:8080/"
        },
        "id": "C2qWYF_Ov_yP",
        "outputId": "43ff24b0-47ff-49c0-8369-5fcf7b491adc"
      },
      "execution_count": null,
      "outputs": [
        {
          "output_type": "stream",
          "name": "stdout",
          "text": [
            "orange\n",
            "banana\n",
            "cherry\n",
            "[1, 2, 3]\n"
          ]
        }
      ]
    },
    {
      "cell_type": "markdown",
      "source": [
        "#Tuple\n",
        "b=(\"Apple\",1,\"Banana\",2)\n",
        "print(\"Tuple is :\",b)"
      ],
      "metadata": {
        "id": "YVcIPRXtx7jt"
      }
    },
    {
      "cell_type": "code",
      "source": [
        "#List\n",
        "b=[\"Apple\",\"Banana\",\"Orange\",4]\n",
        "print(\"List is: \",b)"
      ],
      "metadata": {
        "colab": {
          "base_uri": "https://localhost:8080/"
        },
        "id": "Tz7DyNrCx4Cs",
        "outputId": "6651e8b0-3643-4aff-8575-570ce2777746"
      },
      "execution_count": null,
      "outputs": [
        {
          "output_type": "stream",
          "name": "stdout",
          "text": [
            "List is:  Orange\n"
          ]
        }
      ]
    },
    {
      "cell_type": "code",
      "source": [
        "#Dictionary\n",
        "Dict={1:'Geeks',2:'For',3:'Geeks'}\n",
        "print(Dict)"
      ],
      "metadata": {
        "colab": {
          "base_uri": "https://localhost:8080/"
        },
        "id": "U5_5V5YJ0TUR",
        "outputId": "d95f0564-0005-47d9-b25e-2e3636a212fe"
      },
      "execution_count": null,
      "outputs": [
        {
          "output_type": "stream",
          "name": "stdout",
          "text": [
            "{1: 'Geeks', 2: 'For', 3: 'Geeks'}\n"
          ]
        }
      ]
    },
    {
      "cell_type": "code",
      "source": [
        "exe={'Name':'Ajeet',1:[1,2,3]}\n",
        "print(exe)\n",
        "\n",
        "len=5\n",
        "brdth=6\n",
        "len*brdth"
      ],
      "metadata": {
        "colab": {
          "base_uri": "https://localhost:8080/"
        },
        "id": "64m7Z0XK1eDV",
        "outputId": "0fe00d35-5a0b-41df-a190-810422e71304"
      },
      "execution_count": null,
      "outputs": [
        {
          "output_type": "stream",
          "name": "stdout",
          "text": [
            "{'Name': 'Ajeet', 1: [1, 2, 3]}\n"
          ]
        },
        {
          "output_type": "execute_result",
          "data": {
            "text/plain": [
              "30"
            ]
          },
          "metadata": {},
          "execution_count": 18
        }
      ]
    },
    {
      "cell_type": "code",
      "source": [
        "Dict=dict({1:'Geeks',2:'For',3:'Geeks'})\n",
        "print(Dict)"
      ],
      "metadata": {
        "colab": {
          "base_uri": "https://localhost:8080/"
        },
        "id": "ihSCiS_J2mhD",
        "outputId": "3e5bec2d-b8de-4227-f288-add42fc09cf2"
      },
      "execution_count": null,
      "outputs": [
        {
          "output_type": "stream",
          "name": "stdout",
          "text": [
            "{1: 'Geeks', 2: 'For', 3: 'Geeks'}\n"
          ]
        }
      ]
    },
    {
      "cell_type": "code",
      "source": [
        "exe={}\n",
        "print(exe)"
      ],
      "metadata": {
        "colab": {
          "base_uri": "https://localhost:8080/",
          "height": 182
        },
        "id": "JJiS9yaS3Ant",
        "outputId": "9af6b85a-8505-44f4-f7ed-849c66759a4f"
      },
      "execution_count": null,
      "outputs": [
        {
          "output_type": "error",
          "ename": "TypeError",
          "evalue": "ignored",
          "traceback": [
            "\u001b[0;31m---------------------------------------------------------------------------\u001b[0m",
            "\u001b[0;31mTypeError\u001b[0m                                 Traceback (most recent call last)",
            "\u001b[0;32m<ipython-input-24-d2085db96928>\u001b[0m in \u001b[0;36m<cell line: 1>\u001b[0;34m()\u001b[0m\n\u001b[0;32m----> 1\u001b[0;31m \u001b[0mexe\u001b[0m\u001b[0;34m=\u001b[0m\u001b[0;34m{\u001b[0m\u001b[0;34m(\u001b[0m\u001b[0;34m'Name'\u001b[0m\u001b[0;34m,\u001b[0m\u001b[0;34m'Ajeet'\u001b[0m\u001b[0;34m)\u001b[0m\u001b[0;34m,\u001b[0m\u001b[0;34m(\u001b[0m\u001b[0;36m1\u001b[0m\u001b[0;34m,\u001b[0m\u001b[0;34m[\u001b[0m\u001b[0;36m1\u001b[0m\u001b[0;34m,\u001b[0m\u001b[0;36m2\u001b[0m\u001b[0;34m,\u001b[0m\u001b[0;36m3\u001b[0m\u001b[0;34m]\u001b[0m\u001b[0;34m)\u001b[0m\u001b[0;34m}\u001b[0m\u001b[0;34m\u001b[0m\u001b[0;34m\u001b[0m\u001b[0m\n\u001b[0m\u001b[1;32m      2\u001b[0m \u001b[0mprint\u001b[0m\u001b[0;34m(\u001b[0m\u001b[0mexe\u001b[0m\u001b[0;34m)\u001b[0m\u001b[0;34m\u001b[0m\u001b[0;34m\u001b[0m\u001b[0m\n",
            "\u001b[0;31mTypeError\u001b[0m: unhashable type: 'list'"
          ]
        }
      ]
    },
    {
      "cell_type": "code",
      "source": [
        "Dict={}\n",
        "Dict[0]='Geeks'\n",
        "Dict[1]='For'\n",
        "Dict[2]=1\n",
        "print(Dict)\n",
        "Dict[2]='Welcome'\n",
        "Dict"
      ],
      "metadata": {
        "colab": {
          "base_uri": "https://localhost:8080/"
        },
        "id": "d-NtJ9dn344o",
        "outputId": "f8c31da6-eefb-4a7b-d1c5-45c03facc7ac"
      },
      "execution_count": null,
      "outputs": [
        {
          "output_type": "stream",
          "name": "stdout",
          "text": [
            "{0: 'Geeks', 1: 'For', 2: 1}\n"
          ]
        },
        {
          "output_type": "execute_result",
          "data": {
            "text/plain": [
              "{0: 'Geeks', 1: 'For', 2: 'Welcome'}"
            ]
          },
          "metadata": {},
          "execution_count": 30
        }
      ]
    },
    {
      "cell_type": "code",
      "source": [
        "B={}\n",
        "B['Value_set']=2,3,4\n",
        "B\n",
        "B[2]='Welcome'\n",
        "B"
      ],
      "metadata": {
        "colab": {
          "base_uri": "https://localhost:8080/"
        },
        "id": "tV-lznWJ4aiD",
        "outputId": "95945738-6577-4bab-d61c-79db18ad9c6d"
      },
      "execution_count": null,
      "outputs": [
        {
          "output_type": "execute_result",
          "data": {
            "text/plain": [
              "{'Value_set': (2, 3, 4), 2: 'Welcome'}"
            ]
          },
          "metadata": {},
          "execution_count": 27
        }
      ]
    },
    {
      "cell_type": "code",
      "source": [
        "list1=[\"Apple\",'Banana','Cherry','Apple','Cherry']\n",
        "#print(len(list1))\n",
        "print(list1[2:5])\n",
        "print(list1[2:])\n",
        "list1[-4:-2]\n",
        "if \"Apple\" in list1:\n",
        "  print(\"Yes, 'apple' is in list1\\n\")"
      ],
      "metadata": {
        "colab": {
          "base_uri": "https://localhost:8080/"
        },
        "id": "WvZGfVeR6Ym9",
        "outputId": "81e03411-5c8f-42e3-cd29-5c01318ca809"
      },
      "execution_count": null,
      "outputs": [
        {
          "output_type": "stream",
          "name": "stdout",
          "text": [
            "['Cherry', 'Apple', 'Cherry']\n",
            "['Cherry', 'Apple', 'Cherry']\n",
            "Yes, 'apple' is in list1\n",
            "\n"
          ]
        },
        {
          "output_type": "execute_result",
          "data": {
            "text/plain": [
              "['Apple', 'Banana', 'Cherry', 'Apple', 'Cherry', 'Orange']"
            ]
          },
          "metadata": {},
          "execution_count": 52
        }
      ]
    },
    {
      "cell_type": "code",
      "source": [
        "list1=[\"Apple\",'Banana','Cherry','Apple','Cherry']\n",
        "list1.append(\"Orange\")\n",
        "print(list1)\n",
        "list1.insert(1,\"Mango\")\n",
        "list1"
      ],
      "metadata": {
        "colab": {
          "base_uri": "https://localhost:8080/"
        },
        "id": "SgdT6gHm9qLn",
        "outputId": "f55e9ab3-9d60-4d6d-818c-7f97003e4ca1"
      },
      "execution_count": null,
      "outputs": [
        {
          "output_type": "stream",
          "name": "stdout",
          "text": [
            "['Apple', 'Banana', 'Cherry', 'Apple', 'Cherry', 'Orange']\n"
          ]
        },
        {
          "output_type": "execute_result",
          "data": {
            "text/plain": [
              "['Apple', 'Mango', 'Banana', 'Cherry', 'Apple', 'Cherry', 'Orange']"
            ]
          },
          "metadata": {},
          "execution_count": 59
        }
      ]
    },
    {
      "cell_type": "code",
      "source": [
        "list1=[\"Apple\",'Banana','Cherry','Apple','Cherry']\n",
        "tr=['Pappaya','Watermelon']\n",
        "list1.extend(tr)\n",
        "print(list1)\n",
        "list1.remove(\"Apple\")\n",
        "print(list1)\n",
        "list1.pop(4)\n",
        "print(list1)"
      ],
      "metadata": {
        "colab": {
          "base_uri": "https://localhost:8080/"
        },
        "id": "AQjv6e9i-OND",
        "outputId": "c0165ba8-b477-473f-d895-c96e2b10b74e"
      },
      "execution_count": null,
      "outputs": [
        {
          "output_type": "stream",
          "name": "stdout",
          "text": [
            "['Apple', 'Banana', 'Cherry', 'Apple', 'Cherry', 'Pappaya', 'Watermelon']\n",
            "['Banana', 'Cherry', 'Apple', 'Cherry', 'Pappaya', 'Watermelon']\n",
            "['Banana', 'Cherry', 'Apple', 'Cherry', 'Watermelon']\n"
          ]
        }
      ]
    },
    {
      "cell_type": "code",
      "source": [
        "list1=[\"Apple\",'Banana','Cherry','Apple','Cherry']\n",
        "list1.sort()\n",
        "print(list1)\n",
        "mylist=list1.copy()\n",
        "print(mylist)"
      ],
      "metadata": {
        "colab": {
          "base_uri": "https://localhost:8080/"
        },
        "id": "3TN1r9Em_vuu",
        "outputId": "8e9fa1b1-a075-416c-9ca5-d6c0b2599c1a"
      },
      "execution_count": null,
      "outputs": [
        {
          "output_type": "stream",
          "name": "stdout",
          "text": [
            "['Apple', 'Apple', 'Banana', 'Cherry', 'Cherry']\n",
            "['Apple', 'Apple', 'Banana', 'Cherry', 'Cherry']\n"
          ]
        }
      ]
    },
    {
      "cell_type": "code",
      "source": [
        "b=200\n",
        "a=33\n",
        "if a>b:\n",
        "  print(\"a is greater than b\")\n",
        "elif a==b:\n",
        "  print(\"a and b are equal\")\n",
        "else:\n",
        "  print(\"b is greater than a\")"
      ],
      "metadata": {
        "colab": {
          "base_uri": "https://localhost:8080/"
        },
        "id": "9RsoENNhDKhp",
        "outputId": "0270cfef-e988-4d01-db83-b28b732f757d"
      },
      "execution_count": null,
      "outputs": [
        {
          "output_type": "stream",
          "name": "stdout",
          "text": [
            "b is greater than a\n"
          ]
        }
      ]
    },
    {
      "cell_type": "code",
      "source": [
        "i=0\n",
        "while i<5:\n",
        "  i+=1\n",
        "  if i==3:\n",
        "    continue\n",
        "  print(i)\n",
        "else:\n",
        "  print(\"i is no longer than 5\")"
      ],
      "metadata": {
        "colab": {
          "base_uri": "https://localhost:8080/"
        },
        "id": "7t1-FAnZEXRC",
        "outputId": "ce1d9189-d81d-40d4-f9a2-0d6a3cf9f9c8"
      },
      "execution_count": null,
      "outputs": [
        {
          "output_type": "stream",
          "name": "stdout",
          "text": [
            "1\n",
            "2\n",
            "4\n",
            "5\n",
            "i is no longer than 5\n"
          ]
        }
      ]
    },
    {
      "cell_type": "code",
      "source": [
        "list1=[\"Apple\",'Banana','Cherry','Apple','Cherry']\n",
        "for x in list1:\n",
        "  print(x)"
      ],
      "metadata": {
        "colab": {
          "base_uri": "https://localhost:8080/"
        },
        "id": "au9W0Z6JFe5Q",
        "outputId": "df5dde89-6190-436a-c24c-04b6dc59aacc"
      },
      "execution_count": null,
      "outputs": [
        {
          "output_type": "stream",
          "name": "stdout",
          "text": [
            "Apple\n",
            "Banana\n",
            "Cherry\n",
            "Apple\n",
            "Cherry\n"
          ]
        }
      ]
    },
    {
      "cell_type": "code",
      "source": [
        "for x in \"banana\":\n",
        "  print(x)"
      ],
      "metadata": {
        "colab": {
          "base_uri": "https://localhost:8080/"
        },
        "id": "ZvsE0ekJGow9",
        "outputId": "dfd13bdb-69cf-48cb-f024-9130428476da"
      },
      "execution_count": null,
      "outputs": [
        {
          "output_type": "stream",
          "name": "stdout",
          "text": [
            "b\n",
            "a\n",
            "n\n",
            "a\n",
            "n\n",
            "a\n"
          ]
        }
      ]
    },
    {
      "cell_type": "code",
      "source": [
        "list1=[\"Apple\",'Banana','Cherry','Apple','Cherry']\n",
        "for x in list1:\n",
        "  if x==\"Cherry\":\n",
        "    break\n",
        "  print(x)"
      ],
      "metadata": {
        "colab": {
          "base_uri": "https://localhost:8080/"
        },
        "id": "Ut0f3T0yG7Db",
        "outputId": "8b554f08-cfb4-42bc-ac56-2bd0f8bf1894"
      },
      "execution_count": null,
      "outputs": [
        {
          "output_type": "stream",
          "name": "stdout",
          "text": [
            "Apple\n",
            "Banana\n"
          ]
        }
      ]
    },
    {
      "cell_type": "code",
      "source": [
        "for x in range(6):\n",
        "  print(x)"
      ],
      "metadata": {
        "colab": {
          "base_uri": "https://localhost:8080/"
        },
        "id": "BjTD358-HTM-",
        "outputId": "fd29a31e-922c-4b7d-f3ec-0c88ce47f04a"
      },
      "execution_count": null,
      "outputs": [
        {
          "output_type": "stream",
          "name": "stdout",
          "text": [
            "0\n",
            "1\n",
            "2\n",
            "3\n",
            "4\n",
            "5\n"
          ]
        }
      ]
    },
    {
      "cell_type": "code",
      "source": [
        "for x in range(2,6):\n",
        "  print(x)\n"
      ],
      "metadata": {
        "colab": {
          "base_uri": "https://localhost:8080/"
        },
        "id": "Af8_x73_Hg2V",
        "outputId": "104e9149-13ae-4d62-c9b1-ca0f5c409b42"
      },
      "execution_count": null,
      "outputs": [
        {
          "output_type": "stream",
          "name": "stdout",
          "text": [
            "2\n",
            "3\n",
            "4\n",
            "5\n"
          ]
        }
      ]
    },
    {
      "cell_type": "code",
      "source": [
        "for x in range(2,27,3):\n",
        "  print(x)"
      ],
      "metadata": {
        "colab": {
          "base_uri": "https://localhost:8080/"
        },
        "id": "ItSUsqK8HrOG",
        "outputId": "2f5ca9f1-4ddb-4dba-dc0f-4babe9716f8a"
      },
      "execution_count": null,
      "outputs": [
        {
          "output_type": "stream",
          "name": "stdout",
          "text": [
            "2\n",
            "5\n",
            "8\n",
            "11\n",
            "14\n",
            "17\n",
            "20\n",
            "23\n",
            "26\n"
          ]
        }
      ]
    },
    {
      "cell_type": "code",
      "source": [
        "adj=['red','big','tasty']\n",
        "frts=['apple','banana','Cherry']\n",
        "for x in adj:\n",
        "  for y in frts:\n",
        "    print(x,y)"
      ],
      "metadata": {
        "colab": {
          "base_uri": "https://localhost:8080/"
        },
        "id": "ytBxh0aWH9B2",
        "outputId": "92d2fe91-20f6-413d-944d-0865eab7ec3a"
      },
      "execution_count": null,
      "outputs": [
        {
          "output_type": "stream",
          "name": "stdout",
          "text": [
            "red apple\n",
            "red banana\n",
            "red Cherry\n",
            "big apple\n",
            "big banana\n",
            "big Cherry\n",
            "tasty apple\n",
            "tasty banana\n",
            "tasty Cherry\n"
          ]
        }
      ]
    },
    {
      "cell_type": "code",
      "source": [
        "def sum(a,b):\n",
        "  print(\"Sum is :\",a+b)\n",
        "sum(5,6)"
      ],
      "metadata": {
        "colab": {
          "base_uri": "https://localhost:8080/"
        },
        "id": "MoGFbXFWKe90",
        "outputId": "2ab1e1a5-31e8-45a3-ab8f-c615c016072f"
      },
      "execution_count": null,
      "outputs": [
        {
          "output_type": "stream",
          "name": "stdout",
          "text": [
            "Sum is : 11\n"
          ]
        }
      ]
    },
    {
      "cell_type": "markdown",
      "source": [
        "def my_fun(fname):\n",
        "  print(fname+\" \"+\"Hanchinmani\")\n",
        "my_fun(\"Vinod\")\n",
        "my_fun(\"Robert\")"
      ],
      "metadata": {
        "id": "8TzTbHmnK3Xw"
      }
    },
    {
      "cell_type": "code",
      "source": [
        "def mail(SRN):\n",
        "  print(SRN+\"@KLETECH.AC.IN\")\n",
        "list1=[\"01FE21BCS276\",\"01FE21BCS277\",\"01FE21BCS278\"]\n",
        "for x in list1:\n",
        " mail(x)"
      ],
      "metadata": {
        "colab": {
          "base_uri": "https://localhost:8080/"
        },
        "id": "ExeEfEBXLn01",
        "outputId": "ac5a72bb-b5c4-4eaa-b100-601b74655da4"
      },
      "execution_count": null,
      "outputs": [
        {
          "output_type": "stream",
          "name": "stdout",
          "text": [
            "01FE21BCS276@KLETECH.AC.IN\n",
            "01FE21BCS277@KLETECH.AC.IN\n",
            "01FE21BCS278@KLETECH.AC.IN\n"
          ]
        }
      ]
    },
    {
      "cell_type": "code",
      "source": [
        "def my_fun(*kids):\n",
        "  print(\"Youngest child is\"+\" \"+kids[2])\n",
        "my_fun(\"abc\",\"xyz\",\"mno\")\n"
      ],
      "metadata": {
        "colab": {
          "base_uri": "https://localhost:8080/"
        },
        "id": "oajfLqxqNb2N",
        "outputId": "69d915e6-b02f-4639-b186-ae544b932b31"
      },
      "execution_count": null,
      "outputs": [
        {
          "output_type": "stream",
          "name": "stdout",
          "text": [
            "Youngest child is mno\n"
          ]
        }
      ]
    },
    {
      "cell_type": "code",
      "source": [
        "def char(food):\n",
        "  for x in food:\n",
        "    for y in x:\n",
        "      print(y)\n",
        "fruits=[\"Apple\",'Banana','Cherry','Apple','Cherry']\n",
        "char(fruits)"
      ],
      "metadata": {
        "colab": {
          "base_uri": "https://localhost:8080/"
        },
        "id": "-3chckm5N18e",
        "outputId": "2bb6f4f7-f722-4e8f-f258-4e688606c977"
      },
      "execution_count": null,
      "outputs": [
        {
          "output_type": "stream",
          "name": "stdout",
          "text": [
            "A\n",
            "p\n",
            "p\n",
            "l\n",
            "e\n",
            "B\n",
            "a\n",
            "n\n",
            "a\n",
            "n\n",
            "a\n",
            "C\n",
            "h\n",
            "e\n",
            "r\n",
            "r\n",
            "y\n",
            "A\n",
            "p\n",
            "p\n",
            "l\n",
            "e\n",
            "C\n",
            "h\n",
            "e\n",
            "r\n",
            "r\n",
            "y\n"
          ]
        }
      ]
    },
    {
      "cell_type": "code",
      "source": [
        "x=\"ORANGE\"\n",
        "#for i in range(5,0,-1):\n",
        "i=5\n",
        "while i>=0:\n",
        "  print(x[i])\n",
        "  i=i-1"
      ],
      "metadata": {
        "colab": {
          "base_uri": "https://localhost:8080/"
        },
        "id": "ry3yJzHcPRnK",
        "outputId": "a3434520-d1e3-4df3-bfb1-dc13dd68051f"
      },
      "execution_count": null,
      "outputs": [
        {
          "output_type": "stream",
          "name": "stdout",
          "text": [
            "E\n",
            "G\n",
            "N\n",
            "A\n",
            "R\n",
            "O\n"
          ]
        }
      ]
    },
    {
      "cell_type": "code",
      "source": [
        "def EvenOdd(x):\n",
        "  if(x%2==0):\n",
        "    print(\"Even\")\n",
        "  else:\n",
        "    print(\"Odd\")\n",
        "\n",
        "x=input(\"Enter the Number : \")\n",
        "x=int(x)\n",
        "EvenOdd(x)"
      ],
      "metadata": {
        "colab": {
          "base_uri": "https://localhost:8080/"
        },
        "id": "RHigoyMeqEX-",
        "outputId": "555d0453-2294-49ea-d216-98581048bb17"
      },
      "execution_count": 6,
      "outputs": [
        {
          "output_type": "stream",
          "name": "stdout",
          "text": [
            "Enter the Number : 18\n",
            "Even\n"
          ]
        }
      ]
    },
    {
      "cell_type": "code",
      "source": [
        "def fun(x,y=20):\n",
        "  print(\"X = \",x,\"and Y = \",y)\n",
        "fun(10)"
      ],
      "metadata": {
        "colab": {
          "base_uri": "https://localhost:8080/"
        },
        "id": "R3h8gQRSrmp5",
        "outputId": "fbfb5551-e45a-4262-e7db-738d712cd7b5"
      },
      "execution_count": 9,
      "outputs": [
        {
          "output_type": "stream",
          "name": "stdout",
          "text": [
            "X =  10 and Y =  20\n"
          ]
        }
      ]
    },
    {
      "cell_type": "code",
      "source": [
        "#Returning multiple values\n",
        "def add_sub(a,b):\n",
        "  c=a+b\n",
        "  d=a-b\n",
        "  return c,d\n",
        "\n",
        "u,v=add_sub(20,10)\n",
        "print(\"Addition : \",u,\"Substraction : \",v)"
      ],
      "metadata": {
        "colab": {
          "base_uri": "https://localhost:8080/"
        },
        "id": "gnbXP2IDs2EX",
        "outputId": "095d401a-f213-4276-d26f-546a69842ffc"
      },
      "execution_count": 12,
      "outputs": [
        {
          "output_type": "stream",
          "name": "stdout",
          "text": [
            "Addition :  30 Substraction :  10\n"
          ]
        }
      ]
    },
    {
      "cell_type": "code",
      "source": [
        "def institute(oldtname,newname):\n",
        "  print(oldtname,newname)\n",
        "\n",
        "institute(oldtname='KLETECH',newname='BVBCET')\n",
        "institute(newname='BVBCET',oldtname='KLETECH')"
      ],
      "metadata": {
        "colab": {
          "base_uri": "https://localhost:8080/"
        },
        "id": "uI7W3jRkuokR",
        "outputId": "20688b4b-6819-4ce1-df6f-1ee6edd60a5b"
      },
      "execution_count": 15,
      "outputs": [
        {
          "output_type": "stream",
          "name": "stdout",
          "text": [
            "KLETECH BVBCET\n",
            "KLETECH BVBCET\n"
          ]
        }
      ]
    },
    {
      "cell_type": "code",
      "source": [
        "def myfun(*args):\n",
        "  for arg in args:\n",
        "    print(arg)\n",
        "\n",
        "myfun('Hello',' Welcome to',' Exploratory ',' Data Analysis',' Laboratory')"
      ],
      "metadata": {
        "colab": {
          "base_uri": "https://localhost:8080/"
        },
        "id": "ptAEMkKPv8dy",
        "outputId": "61b315f6-3c23-47ac-e63e-ec7cd9bf8a73"
      },
      "execution_count": 18,
      "outputs": [
        {
          "output_type": "stream",
          "name": "stdout",
          "text": [
            "Hello\n",
            " Welcome to\n",
            " Exploratory \n",
            " Data Analysis\n",
            " Laboratory\n"
          ]
        }
      ]
    }
  ]
}